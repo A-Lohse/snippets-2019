{
 "cells": [
  {
   "cell_type": "code",
   "execution_count": 42,
   "metadata": {},
   "outputs": [],
   "source": [
    "%matplotlib inline\n",
    "from ipywidgets import fixed, FloatSlider, interact, interactive, interact_manual\n",
    "import matplotlib.pyplot as plt\n",
    "import matplotlib.widgets as wig\n",
    "import numpy as np"
   ]
  },
  {
   "cell_type": "code",
   "execution_count": 43,
   "metadata": {},
   "outputs": [],
   "source": [
    "def philip_c(nat_un_em, ex_inflation, alpha,pv):\n",
    "    \"\"\"This function calculates values for inflation and unemployment. \n",
    "        \n",
    "        The values calculated, are the values for inflation and unemployment, given that the other is 0.2.\n",
    "        The idea is, that the values can be plottet as a straihgt line that shows the relationship between \n",
    "        inflation and unemployment in the short run. The deriviations are from Mankiew and Taylor's macro economics. \n",
    "        \n",
    "        Args:\n",
    "            nat_un_em (float) : The natural rate of unemployment in percent (2=2%). No default value given here, but when \n",
    "                                the interact function is called, the default value of natural rate of unemployment \n",
    "                                is 2. \n",
    "            ex_inflation (float) : The expectet inflation rate in percent (2=2%). No default value given here, but when \n",
    "                                the interact function is called, the default value of natural rate of unemployment \n",
    "                                is 2. \n",
    "            alpha (float) : The coeffecient for the trade-off between inflation and unemployment. No default value given here, but when \n",
    "                                the interact function is called, the default value of natural rate of unemployment \n",
    "                                is 1.\n",
    "            pv (float) : The value of inflation where unemployment should be calculated, and vice versa\n",
    "        Returns: \n",
    "                returns two return values. \n",
    "                un_em (float) : The unemployment rate  in percent (2=2%), given the 3 parameters and inflation = 0.2\n",
    "                inflation (float) : The inflation rate in percent (2=2%), given the 3 parameters and unemployment = 0.2\n",
    "        \"\"\"\n",
    "    inflation = pv\n",
    "    un_em = nat_un_em + (ex_inflation - inflation)/alpha\n",
    "    unemployment = pv\n",
    "    inflation = ex_inflation - alpha*(unemployment - nat_un_em)\n",
    "\n",
    "\n",
    "    return un_em, inflation\n",
    "\n",
    "def pc_plot(nat_un_em,ex_inflation,alpha=1,pv=0.2):\n",
    "    \"\"\"This function plot two values as a relationship between unemployment and inflation. \n",
    "        \n",
    "        The function plots the unemployment and inflation, given the 3 paramaters, at a given level of the other (pv)\n",
    "        \n",
    "        Args:\n",
    "            nat_un_em (float) : The natural rate of unemployment in percent (2=2%). No default value given, but when \n",
    "                                the interact function is called, the default value of natural rate of unemployment \n",
    "                                is 2. \n",
    "            ex_inflation (float) : The expectet inflation rate in percent (2=2%). No default value given, but when \n",
    "                                the interact function is called, the default value of natural rate of unemployment \n",
    "                                is 2. \n",
    "            alpha (float) : The coeffecient for the trade-off between inflation and unemployment. A default value of 1 is given\n",
    "        \n",
    "            pv (float) : The value of inflation where unemployment should be calculated, and vice versa. A default value of 0.2\n",
    "                        is given for a nice visualization. \n",
    "            \n",
    "        Returns: \n",
    "            A plot\n",
    "        \"\"\"\n",
    "    x = philip_c(nat_un_em,ex_inflation,alpha,pv) \n",
    "    plt.plot([pv,x[0]],[x[1],pv])\n",
    "    plt.xlabel(\"Unemployment\")\n",
    "    plt.ylabel(\"Inflation\")\n",
    "    plt.xlim(0,8)\n",
    "    plt.ylim(0,8)"
   ]
  },
  {
   "cell_type": "code",
   "execution_count": 49,
   "metadata": {},
   "outputs": [
    {
     "data": {
      "application/vnd.jupyter.widget-view+json": {
       "model_id": "5800940335e84758a00d819a9d31547b",
       "version_major": 2,
       "version_minor": 0
      },
      "text/plain": [
       "interactive(children=(FloatSlider(value=2.0, description='Natural unemployment', max=7.0, step=0.5, style=Slid…"
      ]
     },
     "metadata": {},
     "output_type": "display_data"
    },
    {
     "data": {
      "text/plain": [
       "<function __main__.pc_plot(nat_un_em, ex_inflation, alpha=1, pv=0.2)>"
      ]
     },
     "execution_count": 49,
     "metadata": {},
     "output_type": "execute_result"
    }
   ],
   "source": [
    "style = {'description_width': 'initial'}\n",
    "exi_slider = FloatSlider(min=0,max=10,value=2,step=0.5,description = \"Expected inflation\",style=style)\n",
    "alp_slider = FloatSlider(min=0.1,max=3,value=1,step=0.2,description = \"Alpha value for trade-off\",style=style)\n",
    "nue_slider = FloatSlider(min=0,max=7,value=2,step=0.5, description =\"Natural unemployment\",style=style)\n",
    "interact(pc_plot, ex_inflation =  exi_slider ,nat_un_em = nue_slider, alpha =  alp_slider,pv=fixed(0.2))"
   ]
  },
  {
   "cell_type": "code",
   "execution_count": null,
   "metadata": {},
   "outputs": [],
   "source": []
  }
 ],
 "metadata": {
  "kernelspec": {
   "display_name": "Python 3",
   "language": "python",
   "name": "python3"
  },
  "language_info": {
   "codemirror_mode": {
    "name": "ipython",
    "version": 3
   },
   "file_extension": ".py",
   "mimetype": "text/x-python",
   "name": "python",
   "nbconvert_exporter": "python",
   "pygments_lexer": "ipython3",
   "version": "3.7.1"
  }
 },
 "nbformat": 4,
 "nbformat_minor": 2
}
